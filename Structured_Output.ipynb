{
  "nbformat": 4,
  "nbformat_minor": 0,
  "metadata": {
    "colab": {
      "provenance": [],
      "authorship_tag": "ABX9TyMdhPPw3GS5pjWOGYoq/TnJ",
      "include_colab_link": true
    },
    "kernelspec": {
      "name": "python3",
      "display_name": "Python 3"
    },
    "language_info": {
      "name": "python"
    }
  },
  "cells": [
    {
      "cell_type": "markdown",
      "metadata": {
        "id": "view-in-github",
        "colab_type": "text"
      },
      "source": [
        "<a href=\"https://colab.research.google.com/github/hassanalubeidi/Structured-Outputs/blob/main/Structured_Output.ipynb\" target=\"_parent\"><img src=\"https://colab.research.google.com/assets/colab-badge.svg\" alt=\"Open In Colab\"/></a>"
      ]
    },
    {
      "cell_type": "code",
      "execution_count": null,
      "metadata": {
        "colab": {
          "base_uri": "https://localhost:8080/"
        },
        "id": "y7wtaqrHSICi",
        "outputId": "50e8d409-b6d4-42fa-d97a-2ebf3496c857"
      },
      "outputs": [
        {
          "output_type": "execute_result",
          "data": {
            "text/plain": [
              "MathReasoning(steps=[Step(explanation='We start with the equation 8x + 7 = -23. Our goal is to isolate x on one side of the equation. The first step is to eliminate the constant term on the left side, which is 7.', output='8x + 7 = -23'), Step(explanation='Subtract 7 from both sides of the equation to remove the constant term from the left side.', output='8x + 7 - 7 = -23 - 7'), Step(explanation='Simplify both sides of the equation. On the left side, 7 - 7 equals 0, so we are left with 8x. On the right side, -23 - 7 equals -30.', output='8x = -30'), Step(explanation='Now, we need to solve for x by isolating it. Since x is multiplied by 8, we can divide both sides of the equation by 8 to solve for x.', output='8x / 8 = -30 / 8'), Step(explanation='Simplify the division on both sides. On the left side, 8x / 8 equals x. On the right side, -30 / 8 simplifies to -3.75.', output='x = -3.75')], final_answer='x = -3.75')"
            ]
          },
          "metadata": {},
          "execution_count": 5
        }
      ],
      "source": [
        "from pydantic import BaseModel\n",
        "from openai import OpenAI\n",
        "import os\n",
        "from google.colab import userdata\n",
        "os.environ[\"OPENAI_API_KEY\"] = userdata.get('openai-key')\n",
        "\n",
        "client = OpenAI()\n",
        "\n",
        "class Step(BaseModel):\n",
        "    explanation: str\n",
        "    output: str\n",
        "\n",
        "class MathReasoning(BaseModel):\n",
        "    steps: list[Step]\n",
        "    final_answer: str\n",
        "\n",
        "completion = client.beta.chat.completions.parse(\n",
        "    model=\"gpt-4o\",\n",
        "    messages=[\n",
        "        {\"role\": \"system\", \"content\": \"You are a helpful math tutor. Guide the user through the solution step by step.\"},\n",
        "        {\"role\": \"user\", \"content\": \"how can I solve 8x + 7 = -23\"}\n",
        "    ],\n",
        "    temperature=0,\n",
        "    response_format=MathReasoning,\n",
        ")\n",
        "\n",
        "math_reasoning = completion.choices[0].message.parsed\n",
        "math_reasoning"
      ]
    }
  ]
}